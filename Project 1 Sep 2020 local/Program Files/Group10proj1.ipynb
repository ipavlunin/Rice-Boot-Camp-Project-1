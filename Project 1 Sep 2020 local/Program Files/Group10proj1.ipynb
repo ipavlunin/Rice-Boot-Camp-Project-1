{
 "cells": [
  {
   "cell_type": "code",
   "execution_count": 1,
   "metadata": {},
   "outputs": [],
   "source": [
    "####The main program file\n",
    "import pandas as pd\n",
    "import os\n",
    "from config import (gkey)\n",
    "import gmaps\n",
    "from scipy.stats import linregress\n",
    "from matplotlib import pyplot as plt\n"
   ]
  },
  {
   "cell_type": "code",
   "execution_count": 23,
   "metadata": {},
   "outputs": [],
   "source": [
    "### Load Data File\n",
    "\n",
    "\n"
   ]
  },
  {
   "cell_type": "code",
   "execution_count": 2,
   "metadata": {},
   "outputs": [],
   "source": [
    "#CALLLING OUT CSV FILE LOCATIONS\n",
    "csv_path_1 = os.path.join (\"..\",\"Resources\",\"Census_Data_2015.csv\")\n",
    "csv_path_2 = os.path.join(\"..\", \"Resources\",\"Tract_lat_lon.csv\")\n",
    "\n",
    "# READING CSV DATA INTO DATA FRAMES\n",
    "HV_maindata_1_df = pd.read_csv(csv_path_1)\n",
    "HV_lat_lon_tract_df = pd.read_csv(csv_path_2)\n",
    "\n",
    "#CHECKING DATA FRAME HEADS TO ENSURE DATA IS BEING CORRECLTY READ\n",
    "HV_maindata_1_df.head()\n",
    "HV_lat_lon_tract_df.head()\n",
    "\n",
    "#MERGING TWO DATA FRAMES TO GET FINAL DATAFRAME WITH CENSUS AND GEOGROPHIC INFO COMBINED\n",
    "# THE INNER MERGE WILL ONLY SHOW THOSE ROWS THAT HAVE INFO IN BOTH CSV FILES. IN DOING THIS WE LOST DATA OF 25 TRACT WHICH DID NOT HAVE LAT LONGS\n",
    "\n",
    "HV_final_df = pd.merge(HV_maindata_1_df, HV_lat_lon_tract_df, on='CENSUSTRACT', how = 'inner')\n",
    "\n",
    "#CHECKING DATA FRAME SHAPE TO SEE HOW MANY ROWS AND COLUMNS ARE THERE. \n",
    "#THIS HV_final_df IS THE DATA FRAME THAT CAN BE USED BY ALL TEAM MEMBERS FOR THEIR INDIVIDUAL PROCESSING\n",
    "\n",
    "\n",
    "#OUTPUT THE FINAL DATA FRAME WITH LAT LON + CENSUS DATA INTO CSV FILE IN OUTPUT FOLDER\n",
    "#HV_final_df.to_csv(os.path.join(\"..\",\"Output\", \"Census_data_and_lat_lon.csv\"), encoding = \"utf-8\", index = False)\n"
   ]
  },
  {
   "cell_type": "code",
   "execution_count": 3,
   "metadata": {},
   "outputs": [],
   "source": [
    "###GEOMAPPING CENSUS FOOD DESERT DATA"
   ]
  },
  {
   "cell_type": "code",
   "execution_count": 4,
   "metadata": {},
   "outputs": [],
   "source": [
    "# CONFIGURING GMAP WITH API KEYS\n",
    "\n",
    "gmaps.configure (api_key = gkey)"
   ]
  },
  {
   "cell_type": "code",
   "execution_count": 5,
   "metadata": {},
   "outputs": [],
   "source": [
    "##GETTING TWO VARIABLES FROM MAIN DATAFRAME - (A) LAT LON AND (B) FOOD DESERT SCORE\n",
    "\n",
    "HV_location = HV_final_df [[\"LAT\", \"LON\"]]\n",
    "HV_FD_Score = HV_final_df [\"Food Desert Score\"]"
   ]
  },
  {
   "cell_type": "code",
   "execution_count": 8,
   "metadata": {},
   "outputs": [
    {
     "data": {
      "application/vnd.jupyter.widget-view+json": {
       "model_id": "3b97c34cafdf401fb949f9308a1073ab",
       "version_major": 2,
       "version_minor": 0
      },
      "text/plain": [
       "Figure(layout=FigureLayout(height='420px'))"
      ]
     },
     "metadata": {},
     "output_type": "display_data"
    }
   ],
   "source": [
    "##CREATING FOOD DESERT HEATMAP LAYER\n",
    "\n",
    "# CREATE THE MAP\n",
    "HV_fig = gmaps.figure()\n",
    "\n",
    "# CREATE HEATMAP LAYER USING HV_LOCATION AND HV_FD_SCORE (FOOD DESERT SCORE)\n",
    "HV_heat_layer = gmaps.heatmap_layer(HV_location, weights=HV_FD_Score, \n",
    "                                 dissipating=False, max_intensity=100,\n",
    "                                 point_radius=0.3)\n",
    "# Add heatmap layer to figure\n",
    "HV_fig.add_layer(HV_heat_layer)\n",
    "\n",
    "# Display the figure\n",
    "HV_fig"
   ]
  }
 ],
 "metadata": {
  "kernelspec": {
   "display_name": "Python 3",
   "language": "python",
   "name": "python3"
  },
  "language_info": {
   "codemirror_mode": {
    "name": "ipython",
    "version": 3
   },
   "file_extension": ".py",
   "mimetype": "text/x-python",
   "name": "python",
   "nbconvert_exporter": "python",
   "pygments_lexer": "ipython3",
   "version": "3.7.6"
  }
 },
 "nbformat": 4,
 "nbformat_minor": 4
}
